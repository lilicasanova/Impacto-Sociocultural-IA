{
 "cells": [
  {
   "attachments": {},
   "cell_type": "markdown",
   "metadata": {},
   "source": [
    "MEMORIA"
   ]
  },
  {
   "attachments": {},
   "cell_type": "markdown",
   "metadata": {},
   "source": [
    "La premisa principal de este proyecto era desarrollar a través de datos el impacto sociocultural de la Inteligencia Artificial, \n",
    "los robots y las Tecnologías de la Información en nuestro país. \n",
    "Considerando el crecimiento y el avance exponencial que han sufrido estas herramientas hasta el día de hoy y empatizando con las preocupaciones de\n",
    "la sociedad con respecto a la invasión de esta nueva forma de vida que suplanta muchas de las actividades cotidianas como las veníamos conociendo,\n",
    "planteamos dos principales hipótesis: \n",
    "\n",
    "\n",
    "•\tLas IA no quitan trabajo, sino que lo generan.\n",
    "\n",
    "•\tEl uso continuado de las tecnologías afecta al correcto aprendizaje y a las habilidades sociales del ser humano.\n",
    "\n",
    "\n",
    "\n",
    "Para la búsqueda de datos hemos acudido principalmente a portales abiertos del gobierno español, fácilmente identificados en la bibliografía, como el Instituto Nacional de Estadística (INE), el Observatorio Nacional de Tecnología y Sociedad (ONTSI) o en menor medida, Eurostat y el Ministerio de Cultura. Y por supuesto la infinidad de artículos, reportajes y textos relacionados con la temática y la creciente preocupación previamente mencionada: ¿nos quedaremos sin trabajo? \n",
    "\n",
    "La complicación principal ha sido encontrar datos tan concretos en el formato que necesitamos. Podemos toparnos con numerosos estudios de campo y\n",
    "encuestas sobre los trastornos de aprendizaje a raíz de un uso muy temprano y duradero de la tecnología, por ejemplo, pero no podíamos trabajar con ellos en el programa a la hora de seccionar la información. No obstante, nos han servido en su mayoría para contextualizar la problemática. \n",
    "\n",
    "Lo mismo pasaba con datos sobre el uso de la tecnología anteriores a los años en los que se ha dado el auge y el culmen. Por lo que en ocasiones ha resultado complicado analizar la evolución con el paso de los años. \n",
    "Los datos no los podíamos encontrar en la propia temática del EDA, sino que teníamos que buscar fuera de las Inteligencias Artificiales, dónde \n",
    "estaban cambiando las cosas, qué teníamos o hacíamos antes que ahora no, por eso acudimos a los cambios culturales o buscamos datos sobre la \n",
    "evolución de las enfermedades mentales a lo largo de los años (sin éxito). \n",
    "\n",
    "\n",
    "A la hora de limpiar, en el código hemos intentado mantener un orden: empezamos por tablas genéricas que informan de la situación y uso de las \n",
    "tecnologías hoy en día según sectores profesionales o ingresos del hogar, así como mostramos cuántas personas tienen hoy en día un teléfono móvil\n",
    "o un ordenador en la empresa. \n",
    "\n",
    "Después nos centramos en mostrar el cambio a nivel cultural de la sociedad con el paso de los años, la evolución en sus prácticas y hábitos. El \n",
    "cambio al teletrabajo… \n",
    "\n",
    "Para finalmente poner el foco en el grado de confianza de las personas en las IA. \n",
    "\n",
    "Principalmente hemos tenido que limpiar de valores nulos o vacíos, información faltante en años que aún no se investigaban las causas o no se \n",
    "investigaban tantas variables como ahora. De la misma forma nos hemos visto continuamente teniendo que convertir tipos de valores, de objeto a \n",
    "float, por la práctica habitual de colocar comas en los números decimales. \n",
    "Una vez que conseguimos unas tablas visualmente apacibles y menos sobrecargadas, hemos procedido a la visualización gráfica de los datos que hasta\n",
    "ahora habíamos trabajado. \n",
    "Así con todo, hemos podido detallar las conclusiones del análisis inicialmente planteado con rigurosidad, todos los detalles se encuentran en el \n",
    "archivo .ipynb adjunto. \n"
   ]
  }
 ],
 "metadata": {
  "kernelspec": {
   "display_name": "Python 3",
   "language": "python",
   "name": "python3"
  },
  "language_info": {
   "codemirror_mode": {
    "name": "ipython",
    "version": 3
   },
   "file_extension": ".py",
   "mimetype": "text/x-python",
   "name": "python",
   "nbconvert_exporter": "python",
   "pygments_lexer": "ipython3",
   "version": "3.7.4"
  },
  "orig_nbformat": 4
 },
 "nbformat": 4,
 "nbformat_minor": 2
}
